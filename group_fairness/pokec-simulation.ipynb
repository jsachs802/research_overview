{
 "cells": [
  {
   "cell_type": "markdown",
   "metadata": {},
   "source": [
    "# Simulations on the Pokec dataset (Section 4.3)"
   ]
  },
  {
   "cell_type": "code",
   "execution_count": 32,
   "metadata": {},
   "outputs": [],
   "source": [
    "import pickle\n",
    "import random\n",
    "import numpy as np\n",
    "import pandas as pd\n",
    "import networkx as nx\n",
    "\n",
    "import csv, datetime\n",
    "from tqdm import tqdm\n",
    "import itertools as iter\n",
    "\n",
    "import string\n",
    "import inspect\n",
    "import copy, signal\n",
    "\n",
    "import matplotlib.pyplot as plt\n",
    "from matplotlib import rc, rcParams"
   ]
  },
  {
   "cell_type": "code",
   "execution_count": 2,
   "metadata": {},
   "outputs": [],
   "source": [
    "home_folder = './'"
   ]
  },
  {
   "cell_type": "code",
   "execution_count": 3,
   "metadata": {
    "code_folding": [
     4,
     11,
     18,
     23
    ]
   },
   "outputs": [],
   "source": [
    "# Helper functions\n",
    "\n",
    "debug = lambda str : f\"print(\\\"{str}\\\",\\\"=\\\",eval(\\\"{str}\\\"))\"\n",
    "\n",
    "rcParams.update({\n",
    "        'text.usetex': False,\n",
    "        'font.family': 'stixgeneral',\n",
    "        'mathtext.fontset': 'stix',\n",
    "        'figure.figsize': (10,6),\n",
    "})\n",
    "\n",
    "def file_str():\n",
    "    \"\"\" Auto-generates file name.\"\"\"\n",
    "    now = datetime.datetime.now()\n",
    "    return now.strftime(\"H%HM%MS%S_%m-%d-%y\")\n",
    "\n",
    "rand_string = lambda length: ''.join(random.choice(string.ascii_lowercase) for i in range(length))\n",
    "\n",
    "def pdf_savefig():\n",
    "    \"\"\" Saves figures as pdf \"\"\"\n",
    "    fname = file_str()+rand_string(5)\n",
    "    plt.savefig(home_folder+f\"figs/{fname}.pdf\")\n",
    "\n",
    "def eps_savefig():\n",
    "    \"\"\" Saves figure as encapsulated postscript file (vector format)\n",
    "        so that it isn't pixelated when we put it into a pdf. \"\"\"\n",
    "    pdf_savefig()"
   ]
  },
  {
   "cell_type": "markdown",
   "metadata": {},
   "source": [
    "## Load dataset and precompute"
   ]
  },
  {
   "cell_type": "code",
   "execution_count": 4,
   "metadata": {},
   "outputs": [],
   "source": [
    "podecFolder = home_folder + './pokec-dataset/'"
   ]
  },
  {
   "cell_type": "code",
   "execution_count": 31,
   "metadata": {
    "code_folding": [
     0,
     29
    ]
   },
   "outputs": [],
   "source": [
    "def readPodecData():\n",
    "    G = nx.DiGraph() # directed graph object\n",
    "    v = {} # a dictionary of vertices and their descriptions\n",
    "    regions = {} # a dictionary with the regions\n",
    "    n = 0 # number of vertices\n",
    "    e = 0 # number of edges\n",
    "    \n",
    "    # add vertices\n",
    "    file = podecFolder + f'soc-pokec-profiles.txt'\n",
    "    with open(file, encoding='utf-8') as csv_file:\n",
    "        csv_reader = csv.reader(csv_file, delimiter='\\t')\n",
    "        for r in tqdm(csv_reader): \n",
    "            n += 1\n",
    "            \n",
    "            # id\n",
    "            r[0] = int(r[0], 10)  # id\n",
    "            \n",
    "            # gender\n",
    "            if r[3] == 'null': r[3] = -1\n",
    "            else: r[3] = 1 - int(r[3], 10)  # gender: 1 -- female, 0 -- male \n",
    "            \n",
    "            # age \n",
    "            if r[7] == 'null' or r[7] == '0': r[7] = -1\n",
    "            else: r[7] = int(r[7])\n",
    "            \n",
    "            # regions (update the dictionary)\n",
    "            if r[4] not in regions: regions[r[4]] = 1\n",
    "            \n",
    "            # add node description\n",
    "            v[r[0]] = {'id': r[0],\\\n",
    "                       'public': r[1],\\\n",
    "                       'gender': r[3],\\\n",
    "                       'age': r[7],\\\n",
    "                       'body': r[8],\\\n",
    "                       'language': r[10],\\\n",
    "                       'last-login': r[5],\\\n",
    "                       'registration': r[6],\\\n",
    "                       'region': r[4]}\n",
    "    \n",
    "    # add nodes with their descriptions\n",
    "    G.add_nodes_from([(u, v[u]) for u in v])\n",
    "    \n",
    "    file = podecFolder + f'soc-pokec-relationships.txt'\n",
    "    with open(file, encoding='utf-8') as csv_file:\n",
    "        csv_reader = csv.reader(csv_file, delimiter='\\t')\n",
    "        for r in csv_reader:\n",
    "            \n",
    "            r[0] = int(r[0], 10)\n",
    "            r[1] = int(r[1], 10)\n",
    "            \n",
    "            G.add_edge(r[0], r[1]) # add an edge\n",
    "            \n",
    "            e += 1\n",
    "            if e % 100000 == 0: print(e, flush=True)\n",
    "    \n",
    "    print(f'Tot edges: {e}, tot nodes: {n}.')\n",
    "    return G, regions"
   ]
  },
  {
   "cell_type": "code",
   "execution_count": 6,
   "metadata": {
    "scrolled": true
   },
   "outputs": [
    {
     "name": "stderr",
     "output_type": "stream",
     "text": [
      "1632803it [00:36, 44356.46it/s]\n"
     ]
    },
    {
     "name": "stdout",
     "output_type": "stream",
     "text": [
      "100000\n",
      "200000\n",
      "300000\n",
      "400000\n",
      "500000\n",
      "600000\n",
      "700000\n",
      "800000\n",
      "900000\n",
      "1000000\n",
      "1100000\n",
      "1200000\n",
      "1300000\n",
      "1400000\n",
      "1500000\n",
      "1600000\n",
      "1700000\n",
      "1800000\n",
      "1900000\n",
      "2000000\n",
      "2100000\n",
      "2200000\n",
      "2300000\n",
      "2400000\n",
      "2500000\n",
      "2600000\n",
      "2700000\n",
      "2800000\n",
      "2900000\n",
      "3000000\n",
      "3100000\n",
      "3200000\n",
      "3300000\n",
      "3400000\n",
      "3500000\n",
      "3600000\n",
      "3700000\n",
      "3800000\n",
      "3900000\n",
      "4000000\n",
      "4100000\n",
      "4200000\n",
      "4300000\n",
      "4400000\n",
      "4500000\n",
      "4600000\n",
      "4700000\n",
      "4800000\n",
      "4900000\n",
      "5000000\n",
      "5100000\n",
      "5200000\n",
      "5300000\n",
      "5400000\n",
      "5500000\n",
      "5600000\n",
      "5700000\n",
      "5800000\n",
      "5900000\n",
      "6000000\n",
      "6100000\n",
      "6200000\n",
      "6300000\n",
      "6400000\n",
      "6500000\n",
      "6600000\n",
      "6700000\n",
      "6800000\n",
      "6900000\n",
      "7000000\n",
      "7100000\n",
      "7200000\n",
      "7300000\n",
      "7400000\n",
      "7500000\n",
      "7600000\n",
      "7700000\n",
      "7800000\n",
      "7900000\n",
      "8000000\n",
      "8100000\n",
      "8200000\n",
      "8300000\n",
      "8400000\n",
      "8500000\n",
      "8600000\n",
      "8700000\n",
      "8800000\n",
      "8900000\n",
      "9000000\n",
      "9100000\n",
      "9200000\n",
      "9300000\n",
      "9400000\n",
      "9500000\n",
      "9600000\n",
      "9700000\n",
      "9800000\n",
      "9900000\n",
      "10000000\n",
      "10100000\n",
      "10200000\n",
      "10300000\n",
      "10400000\n",
      "10500000\n",
      "10600000\n",
      "10700000\n",
      "10800000\n",
      "10900000\n",
      "11000000\n",
      "11100000\n",
      "11200000\n",
      "11300000\n",
      "11400000\n",
      "11500000\n",
      "11600000\n",
      "11700000\n",
      "11800000\n",
      "11900000\n",
      "12000000\n",
      "12100000\n",
      "12200000\n",
      "12300000\n",
      "12400000\n",
      "12500000\n",
      "12600000\n",
      "12700000\n",
      "12800000\n",
      "12900000\n",
      "13000000\n",
      "13100000\n",
      "13200000\n",
      "13300000\n",
      "13400000\n",
      "13500000\n",
      "13600000\n",
      "13700000\n",
      "13800000\n",
      "13900000\n",
      "14000000\n",
      "14100000\n",
      "14200000\n",
      "14300000\n",
      "14400000\n",
      "14500000\n",
      "14600000\n",
      "14700000\n",
      "14800000\n",
      "14900000\n",
      "15000000\n",
      "15100000\n",
      "15200000\n",
      "15300000\n",
      "15400000\n",
      "15500000\n",
      "15600000\n",
      "15700000\n",
      "15800000\n",
      "15900000\n",
      "16000000\n",
      "16100000\n",
      "16200000\n",
      "16300000\n",
      "16400000\n",
      "16500000\n",
      "16600000\n",
      "16700000\n",
      "16800000\n",
      "16900000\n",
      "17000000\n",
      "17100000\n",
      "17200000\n",
      "17300000\n",
      "17400000\n",
      "17500000\n",
      "17600000\n",
      "17700000\n",
      "17800000\n",
      "17900000\n",
      "18000000\n",
      "18100000\n",
      "18200000\n",
      "18300000\n",
      "18400000\n",
      "18500000\n",
      "18600000\n",
      "18700000\n",
      "18800000\n",
      "18900000\n",
      "19000000\n",
      "19100000\n",
      "19200000\n",
      "19300000\n",
      "19400000\n",
      "19500000\n",
      "19600000\n",
      "19700000\n",
      "19800000\n",
      "19900000\n",
      "20000000\n",
      "20100000\n",
      "20200000\n",
      "20300000\n",
      "20400000\n",
      "20500000\n",
      "20600000\n",
      "20700000\n",
      "20800000\n",
      "20900000\n",
      "21000000\n",
      "21100000\n",
      "21200000\n",
      "21300000\n",
      "21400000\n",
      "21500000\n",
      "21600000\n",
      "21700000\n",
      "21800000\n",
      "21900000\n",
      "22000000\n",
      "22100000\n",
      "22200000\n",
      "22300000\n",
      "22400000\n",
      "22500000\n",
      "22600000\n",
      "22700000\n",
      "22800000\n",
      "22900000\n",
      "23000000\n",
      "23100000\n",
      "23200000\n",
      "23300000\n",
      "23400000\n",
      "23500000\n",
      "23600000\n",
      "23700000\n",
      "23800000\n",
      "23900000\n",
      "24000000\n",
      "24100000\n",
      "24200000\n",
      "24300000\n",
      "24400000\n",
      "24500000\n",
      "24600000\n",
      "24700000\n",
      "24800000\n",
      "24900000\n",
      "25000000\n",
      "25100000\n",
      "25200000\n",
      "25300000\n",
      "25400000\n",
      "25500000\n",
      "25600000\n",
      "25700000\n",
      "25800000\n",
      "25900000\n",
      "26000000\n",
      "26100000\n",
      "26200000\n",
      "26300000\n",
      "26400000\n",
      "26500000\n",
      "26600000\n",
      "26700000\n",
      "26800000\n",
      "26900000\n",
      "27000000\n",
      "27100000\n",
      "27200000\n",
      "27300000\n",
      "27400000\n",
      "27500000\n",
      "27600000\n",
      "27700000\n",
      "27800000\n",
      "27900000\n",
      "28000000\n",
      "28100000\n",
      "28200000\n",
      "28300000\n",
      "28400000\n",
      "28500000\n",
      "28600000\n",
      "28700000\n",
      "28800000\n",
      "28900000\n",
      "29000000\n",
      "29100000\n",
      "29200000\n",
      "29300000\n",
      "29400000\n",
      "29500000\n",
      "29600000\n",
      "29700000\n",
      "29800000\n",
      "29900000\n",
      "30000000\n",
      "30100000\n",
      "30200000\n",
      "30300000\n",
      "30400000\n",
      "30500000\n",
      "30600000\n",
      "Tot edges: 30622564, tot nodes: 1632803.\n"
     ]
    }
   ],
   "source": [
    "G, _ = readPodecData()"
   ]
  },
  {
   "cell_type": "markdown",
   "metadata": {},
   "source": [
    "### Compute eigenvector centrality"
   ]
  },
  {
   "cell_type": "code",
   "execution_count": 8,
   "metadata": {
    "code_folding": []
   },
   "outputs": [],
   "source": [
    "# This takes a some time to compute.\n",
    "# To avoid this computation, we provide a copy of the result as a picked file \n",
    "# However, the user is welcome to flip the flag below to compute the result \n",
    "doCompute = False\n",
    "if doCompute:\n",
    "    evCen = nx.eigenvector_centrality(G)\n",
    "    file = open(home_folder + 'evCen'+file_str()+rand_string(5), 'wb')\n",
    "    pickle.dump(evCen, file)\n",
    "    \n",
    "# Load picked result\n",
    "file = open(home_folder + 'evCen_pnatl', 'rb')\n",
    "evCen = pickle.load(file)"
   ]
  },
  {
   "cell_type": "markdown",
   "metadata": {},
   "source": [
    "## Intra-network vs non-network fairness metrics (Section 4.3.2)"
   ]
  },
  {
   "cell_type": "markdown",
   "metadata": {},
   "source": [
    "### Helper functions"
   ]
  },
  {
   "cell_type": "code",
   "execution_count": 9,
   "metadata": {
    "code_folding": []
   },
   "outputs": [],
   "source": [
    "def getOutcomeMeasure(G, netM, mnDg=-1):\n",
    "    # G: DiGraph (networkx format)\n",
    "    # netM: a node-level network measure\n",
    "    # mnDg: minimum inDegree required\n",
    "    \n",
    "    # check if gender known\n",
    "    def ok(i): return (G.nodes[i]['gender'] != -1)\n",
    "\n",
    "    grpSz = np.array([0.0,0.0]) # male, female\n",
    "    \n",
    "    # Save a reversed copy for use later.\n",
    "    # `copy = False` ensures that the graph isn't copied. \n",
    "    # This is especially important as the graph takes a lot of memory.\n",
    "    revG = G.reverse(copy=False)\n",
    "    \n",
    "    inDeg = {} # precompute in degree to speed up things (random accesses to G take time)\n",
    "    for i in G.nodes(): inDeg[i] = revG.out_degree(i)\n",
    "    \n",
    "    # compute group sizes\n",
    "    for i in G.nodes: \n",
    "        if not ok(i): continue\n",
    "        if G.nodes[i]['gender'] == 1: grpSz[1] += 1\n",
    "        if G.nodes[i]['gender'] == 0: grpSz[0] += 1\n",
    "    \n",
    "    ## results without network measures and with network measures (respectively)\n",
    "    sumNoNet = np.array([0.0, 0.0])\n",
    "    sumNet = np.array([0.0, 0.0]) # description: [male_cnt, female_cnt]\n",
    "\n",
    "    ## main computation\n",
    "    for i in G.nodes:\n",
    "        u = G.nodes[i]\n",
    "        \n",
    "        if inDeg[i] >= mnDg: \n",
    "            if not ok(i): continue\n",
    "            sumNoNet[u['gender']] += 1 # update non-network outcome measure\n",
    "            sumNet[u['gender']] += netM[i] # update network outcome measure\n",
    "\n",
    "    return sumNet[0] / (sumNet[0] + sumNet[1] + 1e-15), sumNoNet[0] / (sumNoNet[0] + sumNoNet[1] + 1e-15)"
   ]
  },
  {
   "cell_type": "code",
   "execution_count": 10,
   "metadata": {
    "code_folding": [
     0
    ]
   },
   "outputs": [],
   "source": [
    "def getListOfOutcomes(evCenInput):\n",
    "    rateNoNets = []\n",
    "    rateNets = [] \n",
    "\n",
    "    for mnDg in tqdm(r):\n",
    "        srNet, srNoNet = getOutcomeMeasure(G, evCenInput, mnDg)\n",
    "        \n",
    "        rateNets.append(srNet)\n",
    "        rateNoNets.append(srNoNet)\n",
    "\n",
    "    return rateNets, rateNoNets"
   ]
  },
  {
   "cell_type": "code",
   "execution_count": 11,
   "metadata": {
    "code_folding": [
     0
    ]
   },
   "outputs": [],
   "source": [
    "def plotFig1(rateNets, rateNoNets, title=\"\"):\n",
    "    fig, ax = plt.subplots()\n",
    "    plt.plot(x, rateNets, '--', label='Eigenvalue centrality', linewidth=4, alpha=1.0)\n",
    "    plt.plot(x, rateNoNets, '--', label='Non-network measure', linewidth=4, alpha=1.0)\n",
    "    plt.plot(x, [rateNoNets[0]]*len(x), label='Proportion of Men', color='black', linewidth=4)\n",
    "\n",
    "    ## Decorate\n",
    "    plt.ylim(0,1)\n",
    "    ax.set_xscale('log')\n",
    "    plt.gca().invert_xaxis()\n",
    "\n",
    "    plt.ylabel('Ratio: $\\\\frac{w(G_{\\\\rm male})} { w(G_{\\\\rm male}) + w(G_{\\\\rm female})} $', fontsize=25)\n",
    "    plt.xlabel('$\\\\alpha$',fontsize=25)\n",
    "    legend = plt.legend(loc='best', shadow=False, fontsize=15)\n",
    "    \n",
    "    plt.tick_params(axis='both', which='major', labelsize=16)\n",
    "    plt.title(f'Ratio of specificed metric on the $x$% of users with the highest in-degree\\n'+title, fontsize=15)\n",
    "    pdf_savefig()"
   ]
  },
  {
   "cell_type": "markdown",
   "metadata": {},
   "source": [
    "### Compute things"
   ]
  },
  {
   "cell_type": "code",
   "execution_count": 12,
   "metadata": {},
   "outputs": [
    {
     "name": "stderr",
     "output_type": "stream",
     "text": [
      "100%|██████████| 1632803/1632803 [01:28<00:00, 18411.18it/s]\n"
     ]
    }
   ],
   "source": [
    "## lower bound on the in-degree\n",
    "r = np.array(list(np.linspace(0,473,25))\\\n",
    "              + list(np.linspace(500,2000,25))\\\n",
    "              + list(np.linspace(2000,10000,25)))\n",
    "\n",
    "## compute the number of nodes with in-degree higher than r[i]\n",
    "x = np.array([0] * len(r))\n",
    "for i in tqdm(G.nodes):\n",
    "    inDeg = G.in_degree(i)\n",
    "    for j in range(len(r)):\n",
    "        if inDeg >= r[j]: x[j] += 1\n",
    "\n",
    "## convert the above counts to fractions\n",
    "x = x/len(G.nodes)"
   ]
  },
  {
   "cell_type": "code",
   "execution_count": 29,
   "metadata": {},
   "outputs": [
    {
     "name": "stderr",
     "output_type": "stream",
     "text": [
      "100%|██████████| 75/75 [14:15<00:00, 11.40s/it]\n"
     ]
    }
   ],
   "source": [
    "rateNets, rateNoNets = getListOfOutcomes(evCen)"
   ]
  },
  {
   "cell_type": "markdown",
   "metadata": {},
   "source": [
    "### Plot"
   ]
  },
  {
   "cell_type": "code",
   "execution_count": 33,
   "metadata": {},
   "outputs": [
    {
     "data": {
      "image/png": "[encoded data removed]",
      "text/plain": [
       "<Figure size 720x432 with 1 Axes>"
      ]
     },
     "metadata": {
      "needs_background": "light"
     },
     "output_type": "display_data"
    }
   ],
   "source": [
    "plotFig1(rateNets, rateNoNets, 'All accounts')"
   ]
  },
  {
   "cell_type": "markdown",
   "metadata": {},
   "source": [
    "## Inter-group vs Intra-network fairness metrics (Section 4.3.3)"
   ]
  },
  {
   "cell_type": "markdown",
   "metadata": {},
   "source": [
    "### Helper functions"
   ]
  },
  {
   "cell_type": "code",
   "execution_count": 92,
   "metadata": {},
   "outputs": [],
   "source": [
    "computeBMI = lambda w, h: w / h**2 * 100*100"
   ]
  },
  {
   "cell_type": "code",
   "execution_count": 93,
   "metadata": {
    "code_folding": [
     0
    ]
   },
   "outputs": [],
   "source": [
    "def parseWtAndHt(chkAge = False, threshAge = 20):    \n",
    "    wtHtPublic = 0\n",
    "    wts = {}\n",
    "    hts = {}\n",
    "    \n",
    "    c=0; d=0; e=0;\n",
    "\n",
    "    for i in tqdm(G.nodes):\n",
    "        if G.nodes[i]['body'] != 'null' and G.nodes[i]['gender'] != -1: \n",
    "            if chkAge:\n",
    "                if G.nodes[i]['age'] == -1 or G.nodes[i]['age'] < threshAge: continue\n",
    "            \n",
    "            wtHtPublic += 1\n",
    "            st = G.nodes[i]['body'] # string describing weight and height from the profile\n",
    "            li = st.split(',') # weight, height, and description are comma separated\n",
    "\n",
    "            if len(li) < 2: continue # either weight or height or both missing\n",
    "\n",
    "            ht = li[0] # height first, then weight\n",
    "            wt = li[1]\n",
    "\n",
    "            if len(ht.split(' ')) < 2: continue # height is a number + space + 'cm' \n",
    "            if len(wt.split(' ')) < 2: continue # weight is a number + space + 'kg'\n",
    "\n",
    "            c+=1\n",
    "\n",
    "            if ht.split(' ')[-1] != 'cm': continue # if unit is incorrect then skip\n",
    "            if wt.split(' ')[-1] != 'kg': continue # if unit is incorrect then skip\n",
    "\n",
    "            d+=1\n",
    "\n",
    "            try:\n",
    "                tmpH = int(ht.replace(\" \", \"\")[:-2], 10) # convert to integer, if fails skip\n",
    "                tmpW = int(wt.replace(\" \", \"\")[:-2], 10) # convert to integer, if fails skip\n",
    "            except: \n",
    "                e+=1\n",
    "                continue\n",
    "            \n",
    "            # skip unresonable values (we think the users could enter any value they wished)\n",
    "            if tmpH <= 1 and tmpH >= 1000: continue\n",
    "            if tmpW <= 1 and tmpW >= 1000: continue\n",
    "\n",
    "            hts[i] = tmpH\n",
    "            wts[i] = tmpW\n",
    "\n",
    "    st = f' AND age >= {threshAge}: ' if chkAge else ''\n",
    "    print(f'ht/wt public is non-empty' + st)\n",
    "    print(f'Fraction of total: {wtHtPublic / len(G.nodes)}')\n",
    "    print(f'Count: {wtHtPublic}')\n",
    "    print('')\n",
    "    \n",
    "    print(f'ht/wt public is-parsable' + st)\n",
    "    print(f'Fraction of total: {len(list(wts.keys())) / len(G.nodes)}')\n",
    "    print(f'Count: {len(list(wts.keys()))}')\n",
    "    print('')\n",
    "    \n",
    "    # print('Counts lost at each step:')\n",
    "    # eval(debug('c,d,e'))\n",
    "    \n",
    "    return wts, hts"
   ]
  },
  {
   "cell_type": "markdown",
   "metadata": {},
   "source": [
    "### Compute BMIs"
   ]
  },
  {
   "cell_type": "code",
   "execution_count": 94,
   "metadata": {},
   "outputs": [
    {
     "name": "stderr",
     "output_type": "stream",
     "text": [
      "100%|██████████| 1632803/1632803 [00:06<00:00, 255824.26it/s]"
     ]
    },
    {
     "name": "stdout",
     "output_type": "stream",
     "text": [
      "ht/wt public is non-empty\n",
      "Fraction of total: 0.4861860248909391\n",
      "Count: 793846\n",
      "\n",
      "ht/wt public is-parsable\n",
      "Fraction of total: 0.3738466918544368\n",
      "Count: 610418\n",
      "\n"
     ]
    },
    {
     "name": "stderr",
     "output_type": "stream",
     "text": [
      "\n"
     ]
    }
   ],
   "source": [
    "wts, hts = parseWtAndHt(False, -1)"
   ]
  },
  {
   "cell_type": "markdown",
   "metadata": {},
   "source": [
    "### Helper functions"
   ]
  },
  {
   "cell_type": "code",
   "execution_count": 95,
   "metadata": {
    "code_folding": [
     0
    ]
   },
   "outputs": [],
   "source": [
    "def getWeightnHeight(i, chkAge=False):\n",
    "    st = G.nodes[i]['body'] # string describing weight and height from the profile\n",
    "\n",
    "    if chkAge:\n",
    "        if G.nodes[i]['age'] == -1 or G.nodes[i]['age'] < 20: return -1, -1\n",
    "    \n",
    "    li = st.split(',') # weight, height, and description are comma separated\n",
    "    if len(li) < 2: return -1, -1 # either weight or height or both missing\n",
    "    ht = li[0] # height first, then weight\n",
    "    wt = li[1] \n",
    "    \n",
    "    if len(ht.split(' ')) < 2: return -1, -1 # height is a number + space + 'cm' \n",
    "    if len(wt.split(' ')) < 2: return -1, -1 # weight is a number + space + 'kg'\n",
    "        \n",
    "    if ht.split(' ')[-1] != 'cm': return -1, -1 # if unit is incorrect then skip\n",
    "    if wt.split(' ')[-1] != 'kg': return -1, -1 # if unit is incorrect then skip\n",
    "\n",
    "    try: \n",
    "        tmpH = int(ht.replace(\" \", \"\")[:-2], 10) # convert to integer, if fails skip\n",
    "        tmpW = int(wt.replace(\" \", \"\")[:-2], 10) # convert to integer, if fails skip\n",
    "    except: return -1, -1\n",
    "    \n",
    "    # skip unresonable values (we think the users could enter any value they wished)\n",
    "    if tmpH >= 1000 or tmpH <= 1: return -1, -1 # skip unresonable values\n",
    "    if tmpW >= 1000 or tmpW <= 1: return -1, -1 # skip unresonable values\n",
    "    \n",
    "    return tmpW, tmpH"
   ]
  },
  {
   "cell_type": "code",
   "execution_count": 96,
   "metadata": {
    "code_folding": [
     0
    ]
   },
   "outputs": [],
   "source": [
    "def getBMI(i, chkAge=False):\n",
    "    w, h = getWeightnHeight(i, chkAge)\n",
    "    \n",
    "    if w == -1 or h == -1: return -1\n",
    "    \n",
    "    return computeBMI(w, h)"
   ]
  },
  {
   "cell_type": "code",
   "execution_count": 97,
   "metadata": {
    "code_folding": [
     0
    ]
   },
   "outputs": [],
   "source": [
    "def getBin(bmi, g):\n",
    "    if bmi == -1 or g == -1: return -1\n",
    "    if bmi <= 30 and g == 0: return 0\n",
    "    if bmi <= 30 and g == 1: return 1\n",
    "    if bmi > 30 and g == 0: return 2\n",
    "    if bmi > 30 and g == 1: return 3\n",
    "    return -1"
   ]
  },
  {
   "cell_type": "code",
   "execution_count": 98,
   "metadata": {
    "code_folding": [
     0
    ]
   },
   "outputs": [],
   "source": [
    "def computeSum(sumNetOri, G, revG, grpSz, binIs):\n",
    "    # computes the number of edges between each pair of groups\n",
    "    \n",
    "    sz = len(sumNetOri[0])\n",
    "    for i in tqdm(G.nodes):\n",
    "        if binIs[i] == -1: continue\n",
    "        for j in revG[i]:\n",
    "            if binIs[j] == -1: continue\n",
    "            \n",
    "            # count an edge\n",
    "            sumNetOri[ binIs[i] ][ binIs[j] ] += 1\n",
    "\n",
    "    sumNetNor = copy.deepcopy(sumNetOri)\n",
    "\n",
    "    # sumNetNor[a][b] edges from 'a'<-'b'\n",
    "    # normalize by product of group sizes\n",
    "    for l, l2 in iter.product(range(sz), range(sz)): \n",
    "        sumNetNor[l][l2] /= grpSz[l] * grpSz[l2]\n",
    "\n",
    "    return sumNetNor, sumNetOri"
   ]
  },
  {
   "cell_type": "code",
   "execution_count": 99,
   "metadata": {
    "code_folding": [
     0
    ]
   },
   "outputs": [],
   "source": [
    "def getInteractionMeasure(G, chkAge=False):\n",
    "\n",
    "    # create zero\n",
    "    def initializeZeroSum(): return np.zeros((4,4))\n",
    "    \n",
    "    # get the protected group (aka bin) of each node\n",
    "    binIs = {}\n",
    "    for i in tqdm(G.nodes): binIs[i] = getBin(getBMI(i, chkAge=chkAge), G.nodes[i]['gender'])\n",
    "    print(\"Done with computing binIs.\")\n",
    "    \n",
    "    # number of people in each group\n",
    "    grpSz = {}\n",
    "    for i in range(4): grpSz[i] = 0.0\n",
    "\n",
    "    cnt = 0\n",
    "    for i in tqdm(G.nodes): \n",
    "        b = binIs[i]\n",
    "        if b != -1: grpSz[b] += 1     \n",
    "        else: cnt += 1\n",
    "\n",
    "    print('Group sizes are:', grpSz)\n",
    "    \n",
    "    # Save a reversed copy for use later.\n",
    "    # `copy = False` ensures that the graph isn't copied. \n",
    "    # This is especially important as the graph takes a lot of memory.\n",
    "    revG = G.reverse(copy=False)\n",
    "    sumNetOri = initializeZeroSum()\n",
    "        \n",
    "    # computes the actual interaction measure\n",
    "    sumNetNor, sumNetOri = computeSum(sumNetOri, G, revG, grpSz, binIs)    \n",
    "    \n",
    "    return sumNetNor, sumNetOri, grpSz"
   ]
  },
  {
   "cell_type": "markdown",
   "metadata": {},
   "source": [
    "### Run simulation "
   ]
  },
  {
   "cell_type": "code",
   "execution_count": 100,
   "metadata": {},
   "outputs": [
    {
     "name": "stderr",
     "output_type": "stream",
     "text": [
      "100%|██████████| 1632803/1632803 [00:08<00:00, 198729.82it/s]\n",
      " 14%|█▎        | 220935/1632803 [00:00<00:00, 2209178.29it/s]"
     ]
    },
    {
     "name": "stdout",
     "output_type": "stream",
     "text": [
      "Done with computing binIs.\n"
     ]
    },
    {
     "name": "stderr",
     "output_type": "stream",
     "text": [
      "100%|██████████| 1632803/1632803 [00:00<00:00, 2485135.63it/s]\n",
      "  0%|          | 4774/1632803 [00:00<00:34, 47726.05it/s]"
     ]
    },
    {
     "name": "stdout",
     "output_type": "stream",
     "text": [
      "Group sizes are: {0: 330148.0, 1: 256404.0, 2: 14829.0, 3: 4880.0}\n"
     ]
    },
    {
     "name": "stderr",
     "output_type": "stream",
     "text": [
      "100%|██████████| 1632803/1632803 [00:18<00:00, 86975.66it/s] \n"
     ]
    }
   ],
   "source": [
    "sumNetNor, sumNetOri, grpSzWt = getInteractionMeasure(G, chkAge=False)"
   ]
  },
  {
   "cell_type": "markdown",
   "metadata": {},
   "source": [
    "### Print and store things"
   ]
  },
  {
   "cell_type": "markdown",
   "metadata": {},
   "source": [
    "TODO:\n",
    "1. add code to store these in file for chord diagram\n",
    "2. add code to compute statistical rate  "
   ]
  },
  {
   "cell_type": "code",
   "execution_count": 101,
   "metadata": {
    "code_folding": [
     0
    ]
   },
   "outputs": [
    {
     "name": "stdout",
     "output_type": "stream",
     "text": [
      "\n",
      "Intersectional setting\n",
      "==================================================\n",
      "\tN-O M\tN-O W\tO M\tO W\t\n",
      "N-O M\t1.52\t2.04\t1.22\t1.67\t\n",
      "N-O W\t1.8\t1.5\t1.44\t1.3\t\n",
      "O M\t1.2\t1.69\t1.82\t2.14\t\n",
      "O W\t1.5\t1.39\t1.94\t3.33\t\n",
      "\n",
      "\n",
      "Statistical rate by in-degree\n",
      "N-O M\tSR:0.67\tType1 avg-in: 9.9\n",
      "N-O W\tSR:0.681\tType1 avg-in: 10.9\n",
      "O M\tSR:0.628\tType1 avg-in: 8.1\n",
      "O W\tSR:0.39\tType1 avg-in: 9.3\n",
      "Type 1 statistical rate: 0.74\n",
      "\n",
      "\n",
      "\n",
      "Non-intersectional setting\n",
      "==================================================\n",
      "\n",
      "Protected attribute: Gender\n",
      "--------------------------------------------------\n",
      "Results for gender by in-degree\n",
      "m\tSR:0.855\tType1 avg-in: 9.7\n",
      "f\tSR:0.729\tType1 avg-in: 11.0\n",
      "Type 1 statistical rate: 0.88\n",
      "\n",
      "\n",
      "Protected attribute: BMI\n",
      "--------------------------------------------------\n",
      "\n",
      "Results for BMI by in-degree\n",
      "n-obese\tSR type2:0.653\tType1 avg-in: 9.9\n",
      "obese\tSR type2:0.82\tType1 avg-in: 9.8\n",
      "Type 1 statistical rate: 0.99\n"
     ]
    }
   ],
   "source": [
    "##\n",
    "sep = '\\t'\n",
    "\n",
    "\n",
    "grpSzWtLi = list(grpSzWt.values())\n",
    "\n",
    "cat = ['', 'N-O M', 'N-O W', 'O M', 'O W']\n",
    "\n",
    "############################################################################\n",
    "## Intersectional\n",
    "############################################################################\n",
    "print('\\nIntersectional setting')\n",
    "print('='*50)\n",
    "for i in cat: print(f'{i}', end=sep)\n",
    "print('')\n",
    "for i in range(4):\n",
    "    print(cat[i+1], end=sep)\n",
    "    li = list(sumNetOri.T[i])\n",
    "    # print(np.sum(li))\n",
    "    sm = 0\n",
    "    for j in range(4): print(round(sumNetNor[j][i] * 1e5, 2), end=sep)\n",
    "    print('')\n",
    "print('')\n",
    "\n",
    "\n",
    "print('')\n",
    "print('Statistical rate by in-degree')\n",
    "mn, mx = 1e8, -1\n",
    "for i, ty in enumerate(cat[1:]): \n",
    "    type1 = np.sum(sumNetOri[i])/grpSzWtLi[i]\n",
    "    type2 = np.min(sumNetNor[i])/np.max(sumNetNor[i])\n",
    "    mx = max(mx, type1)\n",
    "    mn = min(mn, type1)\n",
    "    print(f'{ty}\\tSR:{np.round(type2, 3)}\\tType1 avg-in: {round(type1, 1)}')\n",
    "\n",
    "print(f'Type 1 statistical rate: {round(mn/mx,2)}')    \n",
    "    \n",
    "    \n",
    "print('')\n",
    "print('')\n",
    "print('\\nNon-intersectional setting')\n",
    "print('='*50)\n",
    "############################################################################\n",
    "## Gender\n",
    "############################################################################\n",
    "\n",
    "print('\\nProtected attribute: Gender')\n",
    "print('-'*50)\n",
    "sumOriGen = np.zeros((2,2)) # male, female\n",
    "sumNorGen = np.zeros((2,2)) # male, female\n",
    "grpSzGen = [0,0]\n",
    "for i, j in iter.product(range(2), range(2)):\n",
    "    sumOriGen[i][j] = sumNetOri[i+0][j+0] + sumNetOri[i+0][j+2] + sumNetOri[i+0][j+2] + sumNetOri[i+2][j+2]\n",
    "    grpSzGen[i] =  grpSzWtLi[i] + grpSzWtLi[i+2]\n",
    "\n",
    "for i, j in iter.product(range(2), range(2)): sumNorGen[i][j] = sumOriGen[i][j] / (grpSzGen[i] * grpSzGen[j])\n",
    "\n",
    "\n",
    "    \n",
    "print('Results for gender by in-degree')\n",
    "mn, mx = 1e8, -1\n",
    "for i, ty in enumerate(['m', 'f']): \n",
    "    type2 = np.min(sumNorGen[i])/np.max(sumNorGen[i])\n",
    "    type1 = np.sum(sumOriGen[i])/grpSzGen[i]\n",
    "    mx = max(mx, type1)\n",
    "    mn = min(mn, type1)\n",
    "    print(f'{ty}\\tSR:{round(type2, 3)}\\tType1 avg-in: {round(type1, 1)}', end='\\n')\n",
    "\n",
    "print(f'Type 1 statistical rate: {round(mn/mx,2)}')\n",
    "\n",
    "print('')\n",
    "print('\\nProtected attribute: BMI')\n",
    "print('-'*50)\n",
    "############################################################################\n",
    "## BMI\n",
    "############################################################################\n",
    "sumOriBMI = np.zeros((2,2)) # male, female\n",
    "sumNorBMI = np.zeros((2,2)) # male, female\n",
    "grpSzBMI = [0,0]\n",
    "for i, j in iter.product(range(2), range(2)):\n",
    "    sumOriBMI[i][j] = sumNetOri[2*i+0][2*j+0] + sumNetOri[2*i+0][2*j+1] + sumNetOri[2*i+0][2*j+1] + sumNetOri[2*i+1][2*j+1]\n",
    "    grpSzBMI[i] =  grpSzWtLi[2*i] + grpSzWtLi[2*i+1]\n",
    "\n",
    "for i, j in iter.product(range(2), range(2)): sumNorBMI[i][j] = sumOriBMI[i][j] / (grpSzBMI[i] * grpSzBMI[j])\n",
    "    \n",
    "print('')\n",
    "print('Results for BMI by in-degree')\n",
    "mn, mx = 1e8, -1\n",
    "for i, ty in enumerate(['n-obese', 'obese']): \n",
    "    type1 = np.sum(sumOriBMI[i])/grpSzBMI[i]\n",
    "    type2 = np.min(sumNorBMI[i])/np.max(sumNorBMI[i])\n",
    "    mx = max(mx, type1)\n",
    "    mn = min(mn, type1)\n",
    "    print(f'{ty}\\tSR type2:{round(type2, 3)}\\tType1 avg-in: {round(type1, 1)}', end='\\n')\n",
    "print(f'Type 1 statistical rate: {round(mn/mx,2)}')"
   ]
  },
  {
   "cell_type": "markdown",
   "metadata": {},
   "source": [
    "### Run simulation (only for users with age ≥ 20)"
   ]
  },
  {
   "cell_type": "code",
   "execution_count": 102,
   "metadata": {},
   "outputs": [
    {
     "name": "stderr",
     "output_type": "stream",
     "text": [
      "100%|██████████| 1632803/1632803 [00:05<00:00, 272401.09it/s]"
     ]
    },
    {
     "name": "stdout",
     "output_type": "stream",
     "text": [
      "ht/wt public is non-empty AND age >= 20: \n",
      "Fraction of total: 0.24021881390467803\n",
      "Count: 392230\n",
      "\n",
      "ht/wt public is-parsable AND age >= 20: \n",
      "Fraction of total: 0.1910377430712707\n",
      "Count: 311927\n",
      "\n"
     ]
    },
    {
     "name": "stderr",
     "output_type": "stream",
     "text": [
      "\n"
     ]
    }
   ],
   "source": [
    "wts, hts = parseWtAndHt(True, 20)"
   ]
  },
  {
   "cell_type": "code",
   "execution_count": 103,
   "metadata": {},
   "outputs": [
    {
     "name": "stderr",
     "output_type": "stream",
     "text": [
      "100%|██████████| 1632803/1632803 [00:08<00:00, 183448.74it/s]\n",
      " 13%|█▎        | 217510/1632803 [00:00<00:00, 2174920.58it/s]"
     ]
    },
    {
     "name": "stdout",
     "output_type": "stream",
     "text": [
      "Done with computing binIs.\n"
     ]
    },
    {
     "name": "stderr",
     "output_type": "stream",
     "text": [
      "100%|██████████| 1632803/1632803 [00:00<00:00, 2606681.66it/s]\n",
      "  1%|          | 9539/1632803 [00:00<00:17, 95377.81it/s]"
     ]
    },
    {
     "name": "stdout",
     "output_type": "stream",
     "text": [
      "Group sizes are: {0: 179556.0, 1: 119812.0, 2: 9124.0, 3: 2388.0}\n"
     ]
    },
    {
     "name": "stderr",
     "output_type": "stream",
     "text": [
      "100%|██████████| 1632803/1632803 [00:07<00:00, 206559.71it/s]\n"
     ]
    }
   ],
   "source": [
    "sumNetNor, sumNetOri, grpSzWt = getInteractionMeasure(G, chkAge=True)"
   ]
  },
  {
   "cell_type": "markdown",
   "metadata": {},
   "source": [
    "### Print and store things"
   ]
  },
  {
   "cell_type": "code",
   "execution_count": 104,
   "metadata": {
    "code_folding": [
     0
    ]
   },
   "outputs": [
    {
     "name": "stdout",
     "output_type": "stream",
     "text": [
      "\n",
      "Intersectional setting\n",
      "==================================================\n",
      "\tN-O M\tN-O W\tO M\tO W\t\n",
      "N-O M\t1.77\t2.55\t1.33\t1.97\t\n",
      "N-O W\t2.16\t1.73\t1.77\t1.4\t\n",
      "O M\t1.32\t2.11\t1.83\t2.61\t\n",
      "O W\t1.72\t1.47\t2.34\t3.05\t\n",
      "\n",
      "\n",
      "Statistical rate by in-degree\n",
      "N-O M\tSR:0.611\tType1 avg-in: 5.9\n",
      "N-O W\tSR:0.575\tType1 avg-in: 6.9\n",
      "O M\tSR:0.569\tType1 avg-in: 4.7\n",
      "O W\tSR:0.459\tType1 avg-in: 5.5\n",
      "Type 1 statistical rate: 0.69\n",
      "\n",
      "\n",
      "\n",
      "Non-intersectional setting\n",
      "==================================================\n",
      "\n",
      "Protected attribute: Gender\n",
      "--------------------------------------------------\n",
      "Results for gender by in-degree\n",
      "m\tSR:0.829\tType1 avg-in: 5.8\n",
      "f\tSR:0.666\tType1 avg-in: 7.0\n",
      "Type 1 statistical rate: 0.83\n",
      "\n",
      "\n",
      "Protected attribute: BMI\n",
      "--------------------------------------------------\n",
      "\n",
      "Results for BMI by in-degree\n",
      "n-obese\tSR type2:0.604\tType1 avg-in: 6.0\n",
      "obese\tSR type2:0.912\tType1 avg-in: 5.8\n",
      "Type 1 statistical rate: 0.98\n"
     ]
    }
   ],
   "source": [
    "##\n",
    "sep = '\\t'\n",
    "\n",
    "\n",
    "grpSzWtLi = list(grpSzWt.values())\n",
    "\n",
    "cat = ['', 'N-O M', 'N-O W', 'O M', 'O W']\n",
    "\n",
    "############################################################################\n",
    "## Intersectional\n",
    "############################################################################\n",
    "print('\\nIntersectional setting')\n",
    "print('='*50)\n",
    "for i in cat: print(f'{i}', end=sep)\n",
    "print('')\n",
    "for i in range(4):\n",
    "    print(cat[i+1], end=sep)\n",
    "    li = list(sumNetOri.T[i])\n",
    "    # print(np.sum(li))\n",
    "    sm = 0\n",
    "    for j in range(4): print(round(sumNetNor[j][i] * 1e5, 2), end=sep)\n",
    "    print('')\n",
    "print('')\n",
    "\n",
    "\n",
    "print('')\n",
    "print('Statistical rate by in-degree')\n",
    "mn, mx = 1e8, -1\n",
    "for i, ty in enumerate(cat[1:]): \n",
    "    type1 = np.sum(sumNetOri[i])/grpSzWtLi[i]\n",
    "    type2 = np.min(sumNetNor[i])/np.max(sumNetNor[i])\n",
    "    mx = max(mx, type1)\n",
    "    mn = min(mn, type1)\n",
    "    print(f'{ty}\\tSR:{np.round(type2, 3)}\\tType1 avg-in: {round(type1, 1)}')\n",
    "\n",
    "print(f'Type 1 statistical rate: {round(mn/mx,2)}')    \n",
    "    \n",
    "    \n",
    "print('')\n",
    "print('')\n",
    "print('\\nNon-intersectional setting')\n",
    "print('='*50)\n",
    "############################################################################\n",
    "## Gender\n",
    "############################################################################\n",
    "\n",
    "print('\\nProtected attribute: Gender')\n",
    "print('-'*50)\n",
    "sumOriGen = np.zeros((2,2)) # male, female\n",
    "sumNorGen = np.zeros((2,2)) # male, female\n",
    "grpSzGen = [0,0]\n",
    "for i, j in iter.product(range(2), range(2)):\n",
    "    sumOriGen[i][j] = sumNetOri[i+0][j+0] + sumNetOri[i+0][j+2] + sumNetOri[i+0][j+2] + sumNetOri[i+2][j+2]\n",
    "    grpSzGen[i] =  grpSzWtLi[i] + grpSzWtLi[i+2]\n",
    "\n",
    "for i, j in iter.product(range(2), range(2)): sumNorGen[i][j] = sumOriGen[i][j] / (grpSzGen[i] * grpSzGen[j])\n",
    "\n",
    "\n",
    "    \n",
    "print('Results for gender by in-degree')\n",
    "mn, mx = 1e8, -1\n",
    "for i, ty in enumerate(['m', 'f']): \n",
    "    type2 = np.min(sumNorGen[i])/np.max(sumNorGen[i])\n",
    "    type1 = np.sum(sumOriGen[i])/grpSzGen[i]\n",
    "    mx = max(mx, type1)\n",
    "    mn = min(mn, type1)\n",
    "    print(f'{ty}\\tSR:{round(type2, 3)}\\tType1 avg-in: {round(type1, 1)}', end='\\n')\n",
    "\n",
    "print(f'Type 1 statistical rate: {round(mn/mx,2)}')\n",
    "\n",
    "print('')\n",
    "print('\\nProtected attribute: BMI')\n",
    "print('-'*50)\n",
    "############################################################################\n",
    "## BMI\n",
    "############################################################################\n",
    "sumOriBMI = np.zeros((2,2)) # male, female\n",
    "sumNorBMI = np.zeros((2,2)) # male, female\n",
    "grpSzBMI = [0,0]\n",
    "for i, j in iter.product(range(2), range(2)):\n",
    "    sumOriBMI[i][j] = sumNetOri[2*i+0][2*j+0] + sumNetOri[2*i+0][2*j+1] + sumNetOri[2*i+0][2*j+1] + sumNetOri[2*i+1][2*j+1]\n",
    "    grpSzBMI[i] =  grpSzWtLi[2*i] + grpSzWtLi[2*i+1]\n",
    "\n",
    "for i, j in iter.product(range(2), range(2)): sumNorBMI[i][j] = sumOriBMI[i][j] / (grpSzBMI[i] * grpSzBMI[j])\n",
    "    \n",
    "print('')\n",
    "print('Results for BMI by in-degree')\n",
    "mn, mx = 1e8, -1\n",
    "for i, ty in enumerate(['n-obese', 'obese']): \n",
    "    type1 = np.sum(sumOriBMI[i])/grpSzBMI[i]\n",
    "    type2 = np.min(sumNorBMI[i])/np.max(sumNorBMI[i])\n",
    "    mx = max(mx, type1)\n",
    "    mn = min(mn, type1)\n",
    "    print(f'{ty}\\tSR type2:{round(type2, 3)}\\tType1 avg-in: {round(type1, 1)}', end='\\n')\n",
    "print(f'Type 1 statistical rate: {round(mn/mx,2)}')"
   ]
  }
 ],
 "metadata": {
  "kernelspec": {
   "display_name": "Python 3",
   "language": "python",
   "name": "python3"
  },
  "language_info": {
   "codemirror_mode": {
    "name": "ipython",
    "version": 3
   },
   "file_extension": ".py",
   "mimetype": "text/x-python",
   "name": "python",
   "nbconvert_exporter": "python",
   "pygments_lexer": "ipython3",
   "version": "3.6.9"
  }
 },
 "nbformat": 4,
 "nbformat_minor": 4
}
