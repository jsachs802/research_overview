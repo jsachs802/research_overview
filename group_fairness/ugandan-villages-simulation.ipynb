{
 "cells": [
  {
   "cell_type": "markdown",
   "metadata": {},
   "source": [
    "# Simulation on the Ugandan village data (Section 4.2)"
   ]
  },
  {
   "cell_type": "code",
   "execution_count": 1,
   "metadata": {},
   "outputs": [],
   "source": [
    "import csv\n",
    "import numpy as np\n",
    "from tqdm import tqdm"
   ]
  },
  {
   "cell_type": "code",
   "execution_count": 2,
   "metadata": {},
   "outputs": [],
   "source": [
    "home_folder = './'"
   ]
  },
  {
   "cell_type": "code",
   "execution_count": 3,
   "metadata": {
    "code_folding": [
     2,
     9,
     16
    ]
   },
   "outputs": [],
   "source": [
    "debug = lambda str : f\"print(\\\"{str}\\\",\\\"=\\\",eval(\\\"{str}\\\"))\""
   ]
  },
  {
   "cell_type": "markdown",
   "metadata": {},
   "source": [
    "## Load the dataset"
   ]
  },
  {
   "cell_type": "code",
   "execution_count": 4,
   "metadata": {},
   "outputs": [],
   "source": [
    "uganVlgFolder = home_folder + 'ugandan-villages/'"
   ]
  },
  {
   "cell_type": "code",
   "execution_count": 5,
   "metadata": {
    "code_folding": [
     12,
     38,
     51,
     59
    ]
   },
   "outputs": [],
   "source": [
    "def readData(typ = ['friend']):\n",
    "    # typ: the type of ties to read\n",
    "    \n",
    "    g = [] # edge list\n",
    "    fstRow = True\n",
    "    n, e = 0, 0 # count of vertices and edges\n",
    "    prev = -1\n",
    "    \n",
    "    mp = {} # map to convert ids to sequential numbers\n",
    "    \n",
    "    file = uganVlgFolder + f'ties.csv'\n",
    "    \n",
    "    with open(file, encoding='utf-8') as csv_file:\n",
    "        csv_reader = csv.reader(csv_file, delimiter=',')\n",
    "        for r in tqdm(csv_reader):\n",
    "            \n",
    "            if fstRow: \n",
    "                fstRow = False\n",
    "                continue\n",
    "            \n",
    "            # only read relvant ties\n",
    "            if r[3] not in typ: continue\n",
    "                \n",
    "            r[1] = int(r[1], 10)\n",
    "            r[2] = int(r[2], 10)\n",
    "            \n",
    "            # add nodes to the graph\n",
    "            if r[1] not in mp: mp[r[1]] = n; n += 1; g.append([])\n",
    "            if r[2] not in mp: mp[r[2]] = n; n += 1; g.append([])\n",
    "            \n",
    "            # add edge to edge list (note that we reverse the edge, \n",
    "            # so that it is easy to compute in-degrees later)\n",
    "            g[mp[r[2]]].append(mp[r[1]])\n",
    "            e += 1\n",
    "\n",
    "        print(f'Tot edges: {e}, tot nodes: {n}.')\n",
    "    \n",
    "    # vertex descriptions\n",
    "    v = [{'gender': -1,\\\n",
    "          'income': -1,\\\n",
    "          'leader': -1,\\\n",
    "          'heard': -1,\\\n",
    "          'adopted': -1,\\\n",
    "          'edu': -1,\\\n",
    "          'village': -1} for i in range(n)]\n",
    "    \n",
    "    fstRow = True\n",
    "    \n",
    "    file = uganVlgFolder + f'nodes.csv'\n",
    "    with open(file, encoding='utf-8') as csv_file:\n",
    "        csv_reader = csv.reader(csv_file, delimiter=',')\n",
    "        for r in tqdm(csv_reader):\n",
    "            if fstRow: \n",
    "                fstRow = False\n",
    "                continue\n",
    "                \n",
    "            r[1] = int(r[1], 10)\n",
    "            \n",
    "            if r[1] not in mp: ## nodes with no incominng edges\n",
    "                mp[r[1]] = n; n += 1; v.append({'gender': -1,\\\n",
    "                                                'income': -1,\\\n",
    "                                                'leader': -1,\\\n",
    "                                                'heard': -1,\\\n",
    "                                                'adopted': -1,\\\n",
    "                                                'edu': -1,\\\n",
    "                                                'village': -1})\n",
    "            \n",
    "            # check for missing attributes\n",
    "            gen = int(r[6],10) if r[6] != 'NA' else -1\n",
    "            inc = int(r[7],10) if r[7] != 'NA' else -1\n",
    "            adp = int(r[3],10) if r[3] != 'NA' else -1\n",
    "            edu = int(r[8],10) if r[8] != 'NA' else -1\n",
    "            \n",
    "            v[mp[r[1]]] = {'gender': gen,\\\n",
    "                           'income': inc,\\\n",
    "                           'leader': int(r[15],10),\\\n",
    "                           'heard': int(r[2],10),\\\n",
    "                           'adopted': adp ,\\\n",
    "                           'edu': edu,\\\n",
    "                           'village': int(r[0],10)}\n",
    "    \n",
    "    # add empty edge lists for nodes with no incoming edges\n",
    "    while len(g) < len(v): g.append([])\n",
    "    print(len(v), len(g))\n",
    "    \n",
    "    return g,v"
   ]
  },
  {
   "cell_type": "markdown",
   "metadata": {},
   "source": [
    "## Helper functions"
   ]
  },
  {
   "cell_type": "code",
   "execution_count": 6,
   "metadata": {
    "code_folding": []
   },
   "outputs": [],
   "source": [
    "def getOutcomeMeasure(g, v, netM, selecAtt='leader'):\n",
    "    # selecTyp: selection attr\n",
    "    # netM: a node level network metric\n",
    "    # v is the set of vertices\n",
    "    # g is the edge list\n",
    "    \n",
    "    # compute group sizes\n",
    "    grpSz = np.array([0.0,0.0])\n",
    "    for u in v: \n",
    "        if u['gender'] == 1: grpSz[1] += 1\n",
    "        if u['gender'] == 0: grpSz[0] += 1\n",
    "    \n",
    "    # description: [male_cnt, female_cnt]\n",
    "    cnt = np.array([0.0, 0.0]) # non-network outcome measure\n",
    "    netCnt = np.array([0.0, 0.0]) # type1 outcome measure\n",
    "    \n",
    "    for i, u in enumerate(v):\n",
    "        if selecAtt == -1 or u[selecAtt] == 1: \n",
    "            if u['gender'] == -1: continue\n",
    "            cnt[ u['gender'] ] += 1\n",
    "            netCnt[ u['gender'] ] += netM[i]\n",
    "    \n",
    "    print(f'Prop. without net: {cnt / np.sum(cnt)}.')\n",
    "    print(f'Prop. with net: {netCnt / np.sum(netCnt)}.')\n",
    "    print('')\n",
    "    tmp = cnt[0]/(cnt[1]+1e-10)\n",
    "    statRateNoNet = min(tmp, 1/tmp)\n",
    "    tmp = netCnt[0]/(netCnt[1]+1e-10)\n",
    "    statRateNet = min(tmp, 1/tmp)\n",
    "    print(f'Stat rate without net: {statRateNoNet}.')\n",
    "    print(f'Stat rate with net: {statRateNet}.')"
   ]
  },
  {
   "cell_type": "code",
   "execution_count": 7,
   "metadata": {},
   "outputs": [
    {
     "name": "stderr",
     "output_type": "stream",
     "text": [
      "383674it [00:00, 668244.65it/s]\n",
      "3185it [00:00, 156081.49it/s]"
     ]
    },
    {
     "name": "stdout",
     "output_type": "stream",
     "text": [
      "Tot edges: 7352, tot nodes: 3322.\n",
      "3396 3396\n"
     ]
    },
    {
     "name": "stderr",
     "output_type": "stream",
     "text": [
      "\n"
     ]
    }
   ],
   "source": [
    "# load the dataset\n",
    "g,v = readData(['solver']) #,'geo','friend', 'family', 'lender', 'Contgame'])\n",
    "\n",
    "# compute in-degrees\n",
    "deg = [len(u) for u in g]"
   ]
  },
  {
   "cell_type": "code",
   "execution_count": 8,
   "metadata": {},
   "outputs": [
    {
     "name": "stdout",
     "output_type": "stream",
     "text": [
      "Prop. without net: [0.59447005 0.40552995].\n",
      "Prop. with net: [0.9578973 0.0421027].\n",
      "\n",
      "Stat rate without net: 0.6821705426360465.\n",
      "Stat rate with net: 0.04395325203254573.\n"
     ]
    }
   ],
   "source": [
    "getOutcomeMeasure(g,v,deg,'leader')"
   ]
  }
 ],
 "metadata": {
  "kernelspec": {
   "display_name": "Python 3",
   "language": "python",
   "name": "python3"
  },
  "language_info": {
   "codemirror_mode": {
    "name": "ipython",
    "version": 3
   },
   "file_extension": ".py",
   "mimetype": "text/x-python",
   "name": "python",
   "nbconvert_exporter": "python",
   "pygments_lexer": "ipython3",
   "version": "3.7.8"
  }
 },
 "nbformat": 4,
 "nbformat_minor": 4
}
